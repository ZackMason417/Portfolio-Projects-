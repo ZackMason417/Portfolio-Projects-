{
 "cells": [
  {
   "cell_type": "code",
   "execution_count": null,
   "id": "5a469be7",
   "metadata": {},
   "outputs": [],
   "source": [
    "import serial\n",
    "import mysql.connector\n",
    "\n",
    "# MySQL Configuration\n",
    "mysql_host = 'localhost'\n",
    "mysql_user = 'user'\n",
    "mysql_password = 'Password'\n",
    "mysql_db = 'MySQL DB'\n",
    "\n",
    "def read_data_from_serial(ser):\n",
    "    if ser.in_waiting > 0:\n",
    "        data = ser.readline().decode('utf-8').strip()\n",
    "        print(\"Received:\", data)  # Add this line for debugging\n",
    "        data_list = data.split(\",\")\n",
    "        if len(data_list) == 3:\n",
    "            return {\n",
    "                \"temperature\": data_list[0],\n",
    "                \"humidity\": data_list[1],\n",
    "                \"pressure\": data_list[2]\n",
    "            }\n",
    "    return None\n",
    "\n",
    "def save_to_mysql(data):\n",
    "    try:\n",
    "        conn = mysql.connector.connect(\n",
    "            host=mysql_host,\n",
    "            user=mysql_user,\n",
    "            password=mysql_password,\n",
    "            database=mysql_db\n",
    "        )\n",
    "        cursor = conn.cursor()\n",
    "        cursor.execute(\"INSERT INTO weather (temperature, humidity, pressure) VALUES (%s, %s, %s)\", (data['temperature'], data['humidity'], data['pressure']))\n",
    "        conn.commit()\n",
    "        cursor.close()\n",
    "        conn.close()\n",
    "        print(\"Data saved to MySQL!\")\n",
    "    except Exception as e:\n",
    "        print(\"Error saving data to MySQL:\", e)\n",
    "\n",
    "def receive_data():\n",
    "    ser = serial.Serial('/dev/ttyUSB0', 9600)  # Change '/dev/ttyUSB0' to your Arduino's serial port\n",
    "\n",
    "    while True:\n",
    "        data = read_data_from_serial(ser)\n",
    "        if data:\n",
    "            print(\"Temperature:\", data['temperature'], \"°C\")\n",
    "            print(\"Humidity:\", data['humidity'], \"%\")\n",
    "            print(\"Pressure:\", data['pressure'], \"hPa\")\n",
    "            save_to_mysql(data)\n",
    "\n",
    "if __name__ == \"__main__\":\n",
    "    receive_data()\n"
   ]
  }
 ],
 "metadata": {
  "kernelspec": {
   "display_name": "Python 3 (ipykernel)",
   "language": "python",
   "name": "python3"
  },
  "language_info": {
   "codemirror_mode": {
    "name": "ipython",
    "version": 3
   },
   "file_extension": ".py",
   "mimetype": "text/x-python",
   "name": "python",
   "nbconvert_exporter": "python",
   "pygments_lexer": "ipython3",
   "version": "3.11.5"
  }
 },
 "nbformat": 4,
 "nbformat_minor": 5
}
