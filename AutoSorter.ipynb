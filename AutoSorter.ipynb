{
 "cells": [
  {
   "cell_type": "code",
   "execution_count": 1,
   "id": "56c8ab7e",
   "metadata": {},
   "outputs": [],
   "source": [
    "import os, shutil"
   ]
  },
  {
   "cell_type": "code",
   "execution_count": 2,
   "id": "5880627b",
   "metadata": {},
   "outputs": [],
   "source": [
    "path = r\"C:/Users/thety/Documents/AutoSort/\""
   ]
  },
  {
   "cell_type": "code",
   "execution_count": 3,
   "id": "986d24bd",
   "metadata": {},
   "outputs": [],
   "source": [
    "file_name = os.listdir(path)"
   ]
  },
  {
   "cell_type": "code",
   "execution_count": 4,
   "id": "f95b15b3",
   "metadata": {},
   "outputs": [],
   "source": [
    "folder_names = [\"CSV Files\", \"Text Files\", \"Excel Files\", \"PDF Files\", \"Zip Files\", \"Applications\", \"Installers\", \"Photos\"]\n",
    "\n",
    "\n",
    "for loop in range (0,8):\n",
    "    if not os.path.exists(path + folder_names[loop]):\n",
    "        os.makedirs(path + folder_names[loop])\n",
    "        \n",
    "        \n",
    "        for file in file_name:\n",
    "            if \".csv\" in file and not os.path.exists(path + \"CSV Files/\" + file):\n",
    "                shutil.move(path + file , path + \"CSV Files/\" + file)\n",
    "        \n",
    "            elif \".txt\" in file and not os.path.exists(path + \"Text Files/\" + file):\n",
    "                shutil.move(path + file , path + \"Text Files/\" + file)\n",
    "        \n",
    "            elif \".exe\" in file and not os.path.exists(path + \"Applications/\" + file):\n",
    "                shutil.move(path + file , path + \"Applications/\" + file)\n",
    "        \n",
    "            elif \".zip\" in file and not os.path.exists(path + \"Zip Files/\" + file):\n",
    "                shutil.move(path + file , path + \"Zip Files/\" + file)\n",
    "        \n",
    "            elif \".pdf\" in file and not os.path.exists(path + \"PDF Files/\" + file):\n",
    "                shutil.move(path + file , path + \"PDF Files/\" + file)\n",
    "        \n",
    "            elif \".msi\" in file and not os.path.exists(path + \"Installers/\" + file):\n",
    "                shutil.move(path + file , path + \"Installers/\" + file)\n",
    "        \n",
    "            elif \".xls\" in file and not os.path.exists(path + \"Excel Files/\" + file):\n",
    "                shutil.move(path + file , path + \"Excel Files/\" + file)\n",
    "        \n",
    "            elif \".xlsx\" in file and not os.path.exists(path + \"Excel Files/\" + file):\n",
    "                shutil.move(path + file , path + \"Excel Files/\" + file)\n",
    "        \n",
    "            elif \".jpg\" in file and not os.path.exists(path + \"Photos/\" + file):\n",
    "                shutil.move(path + file , path + \"Photos/\" + file)\n",
    "        \n",
    "            elif \".png\" in file and not os.path.exists(path + \"Photos/\" + file):\n",
    "                shutil.move(path + file , path + \"Photos/\" + file)\n"
   ]
  },
  {
   "cell_type": "code",
   "execution_count": null,
   "id": "46e06a82",
   "metadata": {},
   "outputs": [],
   "source": []
  },
  {
   "cell_type": "code",
   "execution_count": null,
   "id": "5d7fb5f7",
   "metadata": {},
   "outputs": [],
   "source": []
  }
 ],
 "metadata": {
  "kernelspec": {
   "display_name": "Python 3 (ipykernel)",
   "language": "python",
   "name": "python3"
  },
  "language_info": {
   "codemirror_mode": {
    "name": "ipython",
    "version": 3
   },
   "file_extension": ".py",
   "mimetype": "text/x-python",
   "name": "python",
   "nbconvert_exporter": "python",
   "pygments_lexer": "ipython3",
   "version": "3.10.9"
  }
 },
 "nbformat": 4,
 "nbformat_minor": 5
}
